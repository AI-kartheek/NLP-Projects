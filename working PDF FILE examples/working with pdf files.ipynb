{
 "cells": [
  {
   "cell_type": "markdown",
   "metadata": {},
   "source": [
    "# builtin magic command in jupyter --   %%writefile"
   ]
  },
  {
   "cell_type": "code",
   "execution_count": 3,
   "metadata": {},
   "outputs": [
    {
     "name": "stdout",
     "output_type": "stream",
     "text": [
      "Overwriting text.txt\n"
     ]
    }
   ],
   "source": [
    "%%writefile text.txt\n",
    "Hello! This is kartheek.\n",
    "I am 19 years old..and i am studying at NIT Manipur.."
   ]
  },
  {
   "cell_type": "markdown",
   "metadata": {},
   "source": [
    "if we want to append text then we must keep \"-a\""
   ]
  },
  {
   "cell_type": "code",
   "execution_count": 4,
   "metadata": {},
   "outputs": [
    {
     "name": "stdout",
     "output_type": "stream",
     "text": [
      "Appending to text.txt\n"
     ]
    }
   ],
   "source": [
    "%%writefile -a text.txt\n",
    "Thanks for watching"
   ]
  },
  {
   "cell_type": "markdown",
   "metadata": {},
   "source": [
    "# extract text from pdf files"
   ]
  },
  {
   "cell_type": "code",
   "execution_count": 5,
   "metadata": {
    "scrolled": true
   },
   "outputs": [
    {
     "name": "stdout",
     "output_type": "stream",
     "text": [
      "Requirement already satisfied: PyPDF2 in c:\\users\\91939\\desktop\\python_programs\\python\\python38\\lib\\site-packages (1.26.0)\n"
     ]
    }
   ],
   "source": [
    "!pip install PyPDF2"
   ]
  },
  {
   "cell_type": "code",
   "execution_count": 6,
   "metadata": {},
   "outputs": [],
   "source": [
    "import PyPDF2 as pdf"
   ]
  },
  {
   "cell_type": "code",
   "execution_count": 7,
   "metadata": {},
   "outputs": [],
   "source": [
    "file = open(PDF.pdf', 'rb')"
   ]
  },
  {
   "cell_type": "code",
   "execution_count": 8,
   "metadata": {},
   "outputs": [
    {
     "data": {
      "text/plain": [
       "<PyPDF2.pdf.PdfFileReader at 0x1db57bf28b0>"
      ]
     },
     "execution_count": 8,
     "metadata": {},
     "output_type": "execute_result"
    }
   ],
   "source": [
    "pdf_reader = pdf.PdfFileReader(file)\n",
    "pdf_reader"
   ]
  },
  {
   "cell_type": "code",
   "execution_count": 9,
   "metadata": {},
   "outputs": [
    {
     "name": "stdout",
     "output_type": "stream",
     "text": [
      "Help on package PyPDF2:\n",
      "\n",
      "NAME\n",
      "    PyPDF2\n",
      "\n",
      "PACKAGE CONTENTS\n",
      "    _version\n",
      "    filters\n",
      "    generic\n",
      "    merger\n",
      "    pagerange\n",
      "    pdf\n",
      "    utils\n",
      "    xmp\n",
      "\n",
      "CLASSES\n",
      "    builtins.object\n",
      "        PyPDF2.merger.PdfFileMerger\n",
      "    \n",
      "    class PdfFileMerger(builtins.object)\n",
      "     |  PdfFileMerger(strict=True)\n",
      "     |  \n",
      "     |  Initializes a PdfFileMerger object. PdfFileMerger merges multiple PDFs\n",
      "     |  into a single PDF. It can concatenate, slice, insert, or any combination\n",
      "     |  of the above.\n",
      "     |  \n",
      "     |  See the functions :meth:`merge()<merge>` (or :meth:`append()<append>`)\n",
      "     |  and :meth:`write()<write>` for usage information.\n",
      "     |  \n",
      "     |  :param bool strict: Determines whether user should be warned of all\n",
      "     |          problems and also causes some correctable problems to be fatal.\n",
      "     |          Defaults to ``True``.\n",
      "     |  \n",
      "     |  Methods defined here:\n",
      "     |  \n",
      "     |  __init__(self, strict=True)\n",
      "     |      Initialize self.  See help(type(self)) for accurate signature.\n",
      "     |  \n",
      "     |  addBookmark(self, title, pagenum, parent=None)\n",
      "     |      Add a bookmark to this PDF file.\n",
      "     |      \n",
      "     |      :param str title: Title to use for this bookmark.\n",
      "     |      :param int pagenum: Page number this bookmark will point to.\n",
      "     |      :param parent: A reference to a parent bookmark to create nested\n",
      "     |          bookmarks.\n",
      "     |  \n",
      "     |  addMetadata(self, infos)\n",
      "     |      Add custom metadata to the output.\n",
      "     |      \n",
      "     |      :param dict infos: a Python dictionary where each key is a field\n",
      "     |          and each value is your new metadata.\n",
      "     |          Example: ``{u'/Title': u'My title'}``\n",
      "     |  \n",
      "     |  addNamedDestination(self, title, pagenum)\n",
      "     |      Add a destination to the output.\n",
      "     |      \n",
      "     |      :param str title: Title to use\n",
      "     |      :param int pagenum: Page number this destination points at.\n",
      "     |  \n",
      "     |  append(self, fileobj, bookmark=None, pages=None, import_bookmarks=True)\n",
      "     |      Identical to the :meth:`merge()<merge>` method, but assumes you want to concatenate\n",
      "     |      all pages onto the end of the file instead of specifying a position.\n",
      "     |      \n",
      "     |      :param fileobj: A File Object or an object that supports the standard read\n",
      "     |          and seek methods similar to a File Object. Could also be a\n",
      "     |          string representing a path to a PDF file.\n",
      "     |      \n",
      "     |      :param str bookmark: Optionally, you may specify a bookmark to be applied at\n",
      "     |          the beginning of the included file by supplying the text of the bookmark.\n",
      "     |      \n",
      "     |      :param pages: can be a :ref:`Page Range <page-range>` or a ``(start, stop[, step])`` tuple\n",
      "     |          to merge only the specified range of pages from the source\n",
      "     |          document into the output document.\n",
      "     |      \n",
      "     |      :param bool import_bookmarks: You may prevent the source document's bookmarks\n",
      "     |          from being imported by specifying this as ``False``.\n",
      "     |  \n",
      "     |  close(self)\n",
      "     |      Shuts all file descriptors (input and output) and clears all memory\n",
      "     |      usage.\n",
      "     |  \n",
      "     |  findBookmark(self, bookmark, root=None)\n",
      "     |  \n",
      "     |  merge(self, position, fileobj, bookmark=None, pages=None, import_bookmarks=True)\n",
      "     |      Merges the pages from the given file into the output file at the\n",
      "     |      specified page number.\n",
      "     |      \n",
      "     |      :param int position: The *page number* to insert this file. File will\n",
      "     |          be inserted after the given number.\n",
      "     |      \n",
      "     |      :param fileobj: A File Object or an object that supports the standard read\n",
      "     |          and seek methods similar to a File Object. Could also be a\n",
      "     |          string representing a path to a PDF file.\n",
      "     |      \n",
      "     |      :param str bookmark: Optionally, you may specify a bookmark to be applied at\n",
      "     |          the beginning of the included file by supplying the text of the bookmark.\n",
      "     |      \n",
      "     |      :param pages: can be a :ref:`Page Range <page-range>` or a ``(start, stop[, step])`` tuple\n",
      "     |          to merge only the specified range of pages from the source\n",
      "     |          document into the output document.\n",
      "     |      \n",
      "     |      :param bool import_bookmarks: You may prevent the source document's bookmarks\n",
      "     |          from being imported by specifying this as ``False``.\n",
      "     |  \n",
      "     |  setPageLayout(self, layout)\n",
      "     |      Set the page layout\n",
      "     |      \n",
      "     |      :param str layout: The page layout to be used\n",
      "     |      \n",
      "     |      Valid layouts are:\n",
      "     |           /NoLayout        Layout explicitly not specified\n",
      "     |           /SinglePage      Show one page at a time\n",
      "     |           /OneColumn       Show one column at a time\n",
      "     |           /TwoColumnLeft   Show pages in two columns, odd-numbered pages on the left\n",
      "     |           /TwoColumnRight  Show pages in two columns, odd-numbered pages on the right\n",
      "     |           /TwoPageLeft     Show two pages at a time, odd-numbered pages on the left\n",
      "     |           /TwoPageRight    Show two pages at a time, odd-numbered pages on the right\n",
      "     |  \n",
      "     |  setPageMode(self, mode)\n",
      "     |      Set the page mode.\n",
      "     |      \n",
      "     |      :param str mode: The page mode to use.\n",
      "     |      \n",
      "     |      Valid modes are:\n",
      "     |          /UseNone         Do not show outlines or thumbnails panels\n",
      "     |          /UseOutlines     Show outlines (aka bookmarks) panel\n",
      "     |          /UseThumbs       Show page thumbnails panel\n",
      "     |          /FullScreen      Fullscreen view\n",
      "     |          /UseOC           Show Optional Content Group (OCG) panel\n",
      "     |          /UseAttachments  Show attachments panel\n",
      "     |  \n",
      "     |  write(self, fileobj)\n",
      "     |      Writes all data that has been merged to the given output file.\n",
      "     |      \n",
      "     |      :param fileobj: Output file. Can be a filename or any kind of\n",
      "     |          file-like object.\n",
      "     |  \n",
      "     |  ----------------------------------------------------------------------\n",
      "     |  Data descriptors defined here:\n",
      "     |  \n",
      "     |  __dict__\n",
      "     |      dictionary for instance variables (if defined)\n",
      "     |  \n",
      "     |  __weakref__\n",
      "     |      list of weak references to the object (if defined)\n",
      "\n",
      "DATA\n",
      "    __all__ = ['pdf', 'PdfFileMerger']\n",
      "\n",
      "VERSION\n",
      "    1.26.0\n",
      "\n",
      "FILE\n",
      "    c:\\users\\91939\\desktop\\python_programs\\python\\python38\\lib\\site-packages\\pypdf2\\__init__.py\n",
      "\n",
      "\n"
     ]
    }
   ],
   "source": [
    "help(pdf)"
   ]
  },
  {
   "cell_type": "code",
   "execution_count": 10,
   "metadata": {},
   "outputs": [
    {
     "data": {
      "text/plain": [
       "False"
      ]
     },
     "execution_count": 10,
     "metadata": {},
     "output_type": "execute_result"
    }
   ],
   "source": [
    "pdf_reader.getIsEncrypted()  #returns boolean if pdf is opened with a password."
   ]
  },
  {
   "cell_type": "code",
   "execution_count": 11,
   "metadata": {},
   "outputs": [
    {
     "data": {
      "text/plain": [
       "508"
      ]
     },
     "execution_count": 11,
     "metadata": {},
     "output_type": "execute_result"
    }
   ],
   "source": [
    "pdf_reader.getNumPages()  #to get number of pages."
   ]
  },
  {
   "cell_type": "code",
   "execution_count": 12,
   "metadata": {},
   "outputs": [
    {
     "data": {
      "text/plain": [
       "'RESULTANT AND EQUILIBRIUM OF SYSTEM OF COPLANAR CONCURRENT FORCES\\n31Solution: A bar can develop tensile force or compressive force. Let the force developedbe a compressive force S (push on the cylinder). Free body diagram of the cylinder is as shownin Fig. 2.17 (b).Since there are more than three forces in the system, Lami™s equations cannot be used.Consider the equilibrium equations.FH = 0 S cos 30° + 5 Œ 7 cos 45° = 0S = 7455\\n30cosŒ\\ncos = Œ 0.058 kNSince the value is negative the reaction from the bar is not push, but it is a pull (tensileforce in the bar) of magnitude 0.058 kN.Ans.Referring to Fig. 2.17 (b)Fy = 0 R Œ 10 Œ 7 sin 45° + S sin 30° = 0   R \\n= 10 + 7 sin 45° Œ S sin 30°            = 10 + 7 sin 45° Œ (Œ 0.058) sin 30°i.e.,  R \\n= 14.980 kNAns.Example 2.14. A roller of radius r = 300 mm and weighing 2000 N is to be pulled over acurb of height 150 mm, as shown in Fig. 2.18 (a) by applying a horizontal force F applied to theend of a string wound around the circumference of the roller. Find the magnitude of force F\\nrequired to start the roller move over the curb. What is the least pull F through the centre of the\\nwheel to just turn the roller over the curb?FBAFBOA2000N\\n(a)(b)\\n150mm\\n300mm300mm\\nRCOFig. 2.18Solution. When the roller is about to turn over the curb, the contact with the floor islost and hence, there is no reaction from the floor. The body is in equilibrium under the action\\nof three forces, namely,(i)Applied force \\nF, which is horizontal(ii)Self weight, which is vertically downward, acting through the centre of roller, and\\n(iii)Reaction \\nR from the edge of the curb. Since the body is in equilibrium under theaction of only three forces, they must be concurrent. It means the reaction at edge Aof curb passes through the point B as shown in the Figure 2.18 (b).Referring to Fig. 2.18 (b),'"
      ]
     },
     "execution_count": 12,
     "metadata": {},
     "output_type": "execute_result"
    }
   ],
   "source": [
    "page_45 = pdf_reader.getPage(45)\n",
    "page_45.extractText()"
   ]
  },
  {
   "cell_type": "markdown",
   "metadata": {},
   "source": [
    "## Append write or Merge pdf's"
   ]
  },
  {
   "cell_type": "code",
   "execution_count": 13,
   "metadata": {},
   "outputs": [],
   "source": [
    "pdf_writer = pdf.PdfFileWriter()"
   ]
  },
  {
   "cell_type": "code",
   "execution_count": 14,
   "metadata": {},
   "outputs": [],
   "source": [
    "pdf_writer.addPage(page_45) #we can add any no. of pages if we want and  all pages will add in a sequence..."
   ]
  },
  {
   "cell_type": "code",
   "execution_count": 15,
   "metadata": {},
   "outputs": [],
   "source": [
    "output = open('pages.pdf', 'wb') #appending 'page_45' to 'pages.pdf'\n",
    "pdf_writer.write(output)\n",
    "output.close()"
   ]
  },
  {
   "cell_type": "code",
   "execution_count": null,
   "metadata": {},
   "outputs": [],
   "source": []
  }
 ],
 "metadata": {
  "kernelspec": {
   "display_name": "Python 3",
   "language": "python",
   "name": "python3"
  },
  "language_info": {
   "codemirror_mode": {
    "name": "ipython",
    "version": 3
   },
   "file_extension": ".py",
   "mimetype": "text/x-python",
   "name": "python",
   "nbconvert_exporter": "python",
   "pygments_lexer": "ipython3",
   "version": "3.8.3"
  }
 },
 "nbformat": 4,
 "nbformat_minor": 4
}
