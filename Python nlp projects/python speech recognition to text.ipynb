{
 "cells": [
  {
   "cell_type": "raw",
   "metadata": {},
   "source": [
    "pip install SpeechRecognition\n",
    "pip install pyaudio"
   ]
  },
  {
   "cell_type": "raw",
   "metadata": {},
   "source": [
    "Firstly we have to set on our sound settings from STEREOMIX to MICROPHONE, then only speech_recognition.Microphone() works"
   ]
  },
  {
   "cell_type": "raw",
   "metadata": {},
   "source": [
    "!pip install pyaudio"
   ]
  },
  {
   "cell_type": "code",
   "execution_count": 1,
   "metadata": {},
   "outputs": [],
   "source": [
    "import speech_recognition as sr\n"
   ]
  },
  {
   "cell_type": "code",
   "execution_count": 2,
   "metadata": {},
   "outputs": [],
   "source": [
    "r = sr.Recognizer()"
   ]
  },
  {
   "cell_type": "code",
   "execution_count": 11,
   "metadata": {},
   "outputs": [
    {
     "name": "stdout",
     "output_type": "stream",
     "text": [
      "Say something...\n",
      "You said: many things Army\n"
     ]
    }
   ],
   "source": [
    "with sr.Microphone() as source:\n",
    "    print('Say something...')\n",
    "      #if there is no audio until 5 seconds then it returns text before 5 seconds...\n",
    "    try:\n",
    "        r.adjust_for_ambient_noise(source)\n",
    "        audio = r.listen(source, timeout=5, phrase_time_limit= 5)\n",
    "        text = r.recognize_google(audio) #to recognise google we need internet\n",
    "        print(\"You said:\",text)\n",
    "    except:\n",
    "        print('sorry!..try again')"
   ]
  },
  {
   "cell_type": "code",
   "execution_count": 3,
   "metadata": {},
   "outputs": [
    {
     "data": {
      "text/plain": [
       "['__class__',\n",
       " '__delattr__',\n",
       " '__dict__',\n",
       " '__dir__',\n",
       " '__doc__',\n",
       " '__enter__',\n",
       " '__eq__',\n",
       " '__exit__',\n",
       " '__format__',\n",
       " '__ge__',\n",
       " '__getattribute__',\n",
       " '__gt__',\n",
       " '__hash__',\n",
       " '__init__',\n",
       " '__init_subclass__',\n",
       " '__le__',\n",
       " '__lt__',\n",
       " '__module__',\n",
       " '__ne__',\n",
       " '__new__',\n",
       " '__reduce__',\n",
       " '__reduce_ex__',\n",
       " '__repr__',\n",
       " '__setattr__',\n",
       " '__sizeof__',\n",
       " '__str__',\n",
       " '__subclasshook__',\n",
       " '__weakref__',\n",
       " 'adjust_for_ambient_noise',\n",
       " 'dynamic_energy_adjustment_damping',\n",
       " 'dynamic_energy_ratio',\n",
       " 'dynamic_energy_threshold',\n",
       " 'energy_threshold',\n",
       " 'listen',\n",
       " 'listen_in_background',\n",
       " 'non_speaking_duration',\n",
       " 'operation_timeout',\n",
       " 'pause_threshold',\n",
       " 'phrase_threshold',\n",
       " 'recognize_api',\n",
       " 'recognize_bing',\n",
       " 'recognize_google',\n",
       " 'recognize_google_cloud',\n",
       " 'recognize_houndify',\n",
       " 'recognize_ibm',\n",
       " 'recognize_sphinx',\n",
       " 'recognize_wit',\n",
       " 'record',\n",
       " 'snowboy_wait_for_hot_word']"
      ]
     },
     "execution_count": 3,
     "metadata": {},
     "output_type": "execute_result"
    }
   ],
   "source": [
    "dir(r)"
   ]
  },
  {
   "cell_type": "code",
   "execution_count": 8,
   "metadata": {},
   "outputs": [
    {
     "data": {
      "text/plain": [
       "['AudioData',\n",
       " 'AudioFile',\n",
       " 'AudioSource',\n",
       " 'HTTPError',\n",
       " 'Microphone',\n",
       " 'PortableNamedTemporaryFile',\n",
       " 'Recognizer',\n",
       " 'Request',\n",
       " 'RequestError',\n",
       " 'URLError',\n",
       " 'UnknownValueError',\n",
       " 'WaitTimeoutError',\n",
       " 'WavFile',\n",
       " '__author__',\n",
       " '__builtins__',\n",
       " '__cached__',\n",
       " '__doc__',\n",
       " '__file__',\n",
       " '__license__',\n",
       " '__loader__',\n",
       " '__name__',\n",
       " '__package__',\n",
       " '__path__',\n",
       " '__spec__',\n",
       " '__version__',\n",
       " 'aifc',\n",
       " 'audioop',\n",
       " 'base64',\n",
       " 'collections',\n",
       " 'get_flac_converter',\n",
       " 'hashlib',\n",
       " 'hmac',\n",
       " 'io',\n",
       " 'json',\n",
       " 'math',\n",
       " 'os',\n",
       " 'platform',\n",
       " 'recognize_api',\n",
       " 'shutil_which',\n",
       " 'stat',\n",
       " 'subprocess',\n",
       " 'sys',\n",
       " 'threading',\n",
       " 'time',\n",
       " 'urlencode',\n",
       " 'urlopen',\n",
       " 'uuid',\n",
       " 'wave']"
      ]
     },
     "execution_count": 8,
     "metadata": {},
     "output_type": "execute_result"
    }
   ],
   "source": [
    "dir(sr)"
   ]
  },
  {
   "cell_type": "code",
   "execution_count": null,
   "metadata": {},
   "outputs": [],
   "source": []
  }
 ],
 "metadata": {
  "kernelspec": {
   "display_name": "Python 3",
   "language": "python",
   "name": "python3"
  },
  "language_info": {
   "codemirror_mode": {
    "name": "ipython",
    "version": 3
   },
   "file_extension": ".py",
   "mimetype": "text/x-python",
   "name": "python",
   "nbconvert_exporter": "python",
   "pygments_lexer": "ipython3",
   "version": "3.8.3"
  }
 },
 "nbformat": 4,
 "nbformat_minor": 4
}
