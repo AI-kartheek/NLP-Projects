{
 "cells": [
  {
   "cell_type": "markdown",
   "metadata": {},
   "source": [
    "## gTTS library"
   ]
  },
  {
   "cell_type": "raw",
   "metadata": {},
   "source": [
    "pip install gTTS \n",
    "gtts -- google text to speech\n",
    "we need internet for this library"
   ]
  },
  {
   "cell_type": "code",
   "execution_count": 1,
   "metadata": {},
   "outputs": [],
   "source": [
    "from gtts import gTTS"
   ]
  },
  {
   "cell_type": "code",
   "execution_count": 11,
   "metadata": {},
   "outputs": [],
   "source": [
    "eng = \"Hello, I welcome you in this lesson. Please follow me!\"\n",
    "obj = gTTS(text =eng, slow = False, lang= 'en') \n",
    "\n",
    "obj.save('model saved from PTSC/eng.mp3')"
   ]
  },
  {
   "cell_type": "code",
   "execution_count": 3,
   "metadata": {},
   "outputs": [],
   "source": [
    "telugu = \"హలో, ఈ పాఠంలో నేను మిమ్మల్ని స్వాగతిస్తున్నాను. దయచేసి నన్ను అనుసరించండి!\"\n",
    "obj = gTTS(text = telugu, slow = False, lang= 'te')\n",
    "\n",
    "obj.save('model saved from PTSC/telugu.mp3')"
   ]
  },
  {
   "cell_type": "markdown",
   "metadata": {},
   "source": [
    "## pTTSx3"
   ]
  },
  {
   "cell_type": "raw",
   "metadata": {},
   "source": [
    "pip install pyTTSx3\n",
    "we don't need any internet "
   ]
  },
  {
   "cell_type": "code",
   "execution_count": 4,
   "metadata": {},
   "outputs": [],
   "source": [
    "import pyttsx3"
   ]
  },
  {
   "cell_type": "code",
   "execution_count": 5,
   "metadata": {},
   "outputs": [],
   "source": [
    "engine = pyttsx3.init()\n"
   ]
  },
  {
   "cell_type": "code",
   "execution_count": 13,
   "metadata": {},
   "outputs": [],
   "source": [
    "eng = \"Hello, I welcome you in this lesson. Please follow me! thank u\"\n",
    "engine.setProperty('rate', 160)  #it sets the speed of talking speech\n",
    "engine.say(eng)\n",
    "engine.runAndWait()  #with out this it doesn't run"
   ]
  },
  {
   "cell_type": "markdown",
   "metadata": {},
   "source": [
    "## Windows"
   ]
  },
  {
   "cell_type": "markdown",
   "metadata": {},
   "source": [
    "this library comes by defalut in windows and doesn't need any internet..."
   ]
  },
  {
   "cell_type": "code",
   "execution_count": 14,
   "metadata": {},
   "outputs": [],
   "source": [
    "import win32com.client as wincl   "
   ]
  },
  {
   "cell_type": "code",
   "execution_count": 15,
   "metadata": {},
   "outputs": [],
   "source": [
    "speak = wincl.Dispatch('SAPI.SpVoice')\n",
    "#SAPI.SpVoice -- load speech voice in speech API"
   ]
  },
  {
   "cell_type": "code",
   "execution_count": 16,
   "metadata": {},
   "outputs": [
    {
     "data": {
      "text/plain": [
       "1"
      ]
     },
     "execution_count": 16,
     "metadata": {},
     "output_type": "execute_result"
    }
   ],
   "source": [
    "eng = \"Hello, I welcome you in this lesson. Please follow me! thank u\"\n",
    "speak.Speak(eng)"
   ]
  },
  {
   "cell_type": "code",
   "execution_count": null,
   "metadata": {},
   "outputs": [],
   "source": []
  }
 ],
 "metadata": {
  "kernelspec": {
   "display_name": "Python 3",
   "language": "python",
   "name": "python3"
  },
  "language_info": {
   "codemirror_mode": {
    "name": "ipython",
    "version": 3
   },
   "file_extension": ".py",
   "mimetype": "text/x-python",
   "name": "python",
   "nbconvert_exporter": "python",
   "pygments_lexer": "ipython3",
   "version": "3.8.2"
  }
 },
 "nbformat": 4,
 "nbformat_minor": 4
}
