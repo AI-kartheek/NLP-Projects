{
 "cells": [
  {
   "cell_type": "code",
   "execution_count": 2,
   "metadata": {},
   "outputs": [],
   "source": [
    "import pandas as pd\n",
    "from sklearn.feature_extraction.text import CountVectorizer"
   ]
  },
  {
   "cell_type": "code",
   "execution_count": 176,
   "metadata": {},
   "outputs": [
    {
     "data": {
      "text/html": [
       "<div>\n",
       "<style scoped>\n",
       "    .dataframe tbody tr th:only-of-type {\n",
       "        vertical-align: middle;\n",
       "    }\n",
       "\n",
       "    .dataframe tbody tr th {\n",
       "        vertical-align: top;\n",
       "    }\n",
       "\n",
       "    .dataframe thead th {\n",
       "        text-align: right;\n",
       "    }\n",
       "</style>\n",
       "<table border=\"1\" class=\"dataframe\">\n",
       "  <thead>\n",
       "    <tr style=\"text-align: right;\">\n",
       "      <th></th>\n",
       "      <th>Unnamed: 0</th>\n",
       "      <th>twitts</th>\n",
       "      <th>sentiment</th>\n",
       "    </tr>\n",
       "  </thead>\n",
       "  <tbody>\n",
       "    <tr>\n",
       "      <th>0</th>\n",
       "      <td>0</td>\n",
       "      <td>having</td>\n",
       "      <td>0</td>\n",
       "    </tr>\n",
       "    <tr>\n",
       "      <th>1</th>\n",
       "      <td>1</td>\n",
       "      <td>sad hour away</td>\n",
       "      <td>0</td>\n",
       "    </tr>\n",
       "    <tr>\n",
       "      <th>2</th>\n",
       "      <td>2</td>\n",
       "      <td>skdev ah thats paranoia hate needles ve needle...</td>\n",
       "      <td>0</td>\n",
       "    </tr>\n",
       "    <tr>\n",
       "      <th>3</th>\n",
       "      <td>3</td>\n",
       "      <td>damn caught product searching sleep office epi</td>\n",
       "      <td>0</td>\n",
       "    </tr>\n",
       "    <tr>\n",
       "      <th>4</th>\n",
       "      <td>4</td>\n",
       "      <td>miss hug goat stupid photography wanted hug goat</td>\n",
       "      <td>0</td>\n",
       "    </tr>\n",
       "    <tr>\n",
       "      <th>...</th>\n",
       "      <td>...</td>\n",
       "      <td>...</td>\n",
       "      <td>...</td>\n",
       "    </tr>\n",
       "    <tr>\n",
       "      <th>3995</th>\n",
       "      <td>3995</td>\n",
       "      <td>nickygeezy start necessary possible suddenly i...</td>\n",
       "      <td>4</td>\n",
       "    </tr>\n",
       "    <tr>\n",
       "      <th>3996</th>\n",
       "      <td>3996</td>\n",
       "      <td>ehhh wanna goodwill sudden urges guess heading...</td>\n",
       "      <td>4</td>\n",
       "    </tr>\n",
       "    <tr>\n",
       "      <th>3997</th>\n",
       "      <td>3997</td>\n",
       "      <td>accepted hospital search khaki pants</td>\n",
       "      <td>4</td>\n",
       "    </tr>\n",
       "    <tr>\n",
       "      <th>3998</th>\n",
       "      <td>3998</td>\n",
       "      <td>imogenheap great voice fever ray thanks link</td>\n",
       "      <td>4</td>\n",
       "    </tr>\n",
       "    <tr>\n",
       "      <th>3999</th>\n",
       "      <td>3999</td>\n",
       "      <td>naomichappell simple rules world better place ...</td>\n",
       "      <td>4</td>\n",
       "    </tr>\n",
       "  </tbody>\n",
       "</table>\n",
       "<p>4000 rows × 3 columns</p>\n",
       "</div>"
      ],
      "text/plain": [
       "      Unnamed: 0                                             twitts  sentiment\n",
       "0              0                                             having          0\n",
       "1              1                                      sad hour away          0\n",
       "2              2  skdev ah thats paranoia hate needles ve needle...          0\n",
       "3              3     damn caught product searching sleep office epi          0\n",
       "4              4   miss hug goat stupid photography wanted hug goat          0\n",
       "...          ...                                                ...        ...\n",
       "3995        3995  nickygeezy start necessary possible suddenly i...          4\n",
       "3996        3996  ehhh wanna goodwill sudden urges guess heading...          4\n",
       "3997        3997               accepted hospital search khaki pants          4\n",
       "3998        3998       imogenheap great voice fever ray thanks link          4\n",
       "3999        3999  naomichappell simple rules world better place ...          4\n",
       "\n",
       "[4000 rows x 3 columns]"
      ]
     },
     "execution_count": 176,
     "metadata": {},
     "output_type": "execute_result"
    }
   ],
   "source": [
    "data = pd.read_csv('Cleaned Twitter.csv')\n",
    "data"
   ]
  },
  {
   "cell_type": "code",
   "execution_count": 177,
   "metadata": {},
   "outputs": [
    {
     "data": {
      "text/html": [
       "<div>\n",
       "<style scoped>\n",
       "    .dataframe tbody tr th:only-of-type {\n",
       "        vertical-align: middle;\n",
       "    }\n",
       "\n",
       "    .dataframe tbody tr th {\n",
       "        vertical-align: top;\n",
       "    }\n",
       "\n",
       "    .dataframe thead th {\n",
       "        text-align: right;\n",
       "    }\n",
       "</style>\n",
       "<table border=\"1\" class=\"dataframe\">\n",
       "  <thead>\n",
       "    <tr style=\"text-align: right;\">\n",
       "      <th></th>\n",
       "      <th>twitts</th>\n",
       "      <th>sentiment</th>\n",
       "    </tr>\n",
       "  </thead>\n",
       "  <tbody>\n",
       "    <tr>\n",
       "      <th>0</th>\n",
       "      <td>having</td>\n",
       "      <td>0</td>\n",
       "    </tr>\n",
       "    <tr>\n",
       "      <th>1</th>\n",
       "      <td>sad hour away</td>\n",
       "      <td>0</td>\n",
       "    </tr>\n",
       "    <tr>\n",
       "      <th>2</th>\n",
       "      <td>skdev ah thats paranoia hate needles ve needle...</td>\n",
       "      <td>0</td>\n",
       "    </tr>\n",
       "    <tr>\n",
       "      <th>3</th>\n",
       "      <td>damn caught product searching sleep office epi</td>\n",
       "      <td>0</td>\n",
       "    </tr>\n",
       "    <tr>\n",
       "      <th>4</th>\n",
       "      <td>miss hug goat stupid photography wanted hug goat</td>\n",
       "      <td>0</td>\n",
       "    </tr>\n",
       "    <tr>\n",
       "      <th>...</th>\n",
       "      <td>...</td>\n",
       "      <td>...</td>\n",
       "    </tr>\n",
       "    <tr>\n",
       "      <th>3995</th>\n",
       "      <td>nickygeezy start necessary possible suddenly i...</td>\n",
       "      <td>4</td>\n",
       "    </tr>\n",
       "    <tr>\n",
       "      <th>3996</th>\n",
       "      <td>ehhh wanna goodwill sudden urges guess heading...</td>\n",
       "      <td>4</td>\n",
       "    </tr>\n",
       "    <tr>\n",
       "      <th>3997</th>\n",
       "      <td>accepted hospital search khaki pants</td>\n",
       "      <td>4</td>\n",
       "    </tr>\n",
       "    <tr>\n",
       "      <th>3998</th>\n",
       "      <td>imogenheap great voice fever ray thanks link</td>\n",
       "      <td>4</td>\n",
       "    </tr>\n",
       "    <tr>\n",
       "      <th>3999</th>\n",
       "      <td>naomichappell simple rules world better place ...</td>\n",
       "      <td>4</td>\n",
       "    </tr>\n",
       "  </tbody>\n",
       "</table>\n",
       "<p>4000 rows × 2 columns</p>\n",
       "</div>"
      ],
      "text/plain": [
       "                                                 twitts  sentiment\n",
       "0                                                having          0\n",
       "1                                         sad hour away          0\n",
       "2     skdev ah thats paranoia hate needles ve needle...          0\n",
       "3        damn caught product searching sleep office epi          0\n",
       "4      miss hug goat stupid photography wanted hug goat          0\n",
       "...                                                 ...        ...\n",
       "3995  nickygeezy start necessary possible suddenly i...          4\n",
       "3996  ehhh wanna goodwill sudden urges guess heading...          4\n",
       "3997               accepted hospital search khaki pants          4\n",
       "3998       imogenheap great voice fever ray thanks link          4\n",
       "3999  naomichappell simple rules world better place ...          4\n",
       "\n",
       "[4000 rows x 2 columns]"
      ]
     },
     "execution_count": 177,
     "metadata": {},
     "output_type": "execute_result"
    }
   ],
   "source": [
    "data.drop(columns = ['Unnamed: 0'], inplace = True)\n",
    "data"
   ]
  },
  {
   "cell_type": "code",
   "execution_count": 178,
   "metadata": {},
   "outputs": [
    {
     "data": {
      "text/plain": [
       "4    2000\n",
       "0    2000\n",
       "Name: sentiment, dtype: int64"
      ]
     },
     "execution_count": 178,
     "metadata": {},
     "output_type": "execute_result"
    }
   ],
   "source": [
    "data['sentiment'].value_counts()"
   ]
  },
  {
   "cell_type": "code",
   "execution_count": 179,
   "metadata": {},
   "outputs": [
    {
     "data": {
      "text/plain": [
       "12"
      ]
     },
     "execution_count": 179,
     "metadata": {},
     "output_type": "execute_result"
    }
   ],
   "source": [
    "data['twitts'].isnull().sum()"
   ]
  },
  {
   "cell_type": "code",
   "execution_count": 180,
   "metadata": {},
   "outputs": [
    {
     "data": {
      "text/plain": [
       "0       False\n",
       "1       False\n",
       "2       False\n",
       "3       False\n",
       "4       False\n",
       "        ...  \n",
       "3995    False\n",
       "3996    False\n",
       "3997    False\n",
       "3998    False\n",
       "3999    False\n",
       "Name: twitts, Length: 4000, dtype: bool"
      ]
     },
     "execution_count": 180,
     "metadata": {},
     "output_type": "execute_result"
    }
   ],
   "source": [
    "Nan_val = data['twitts'].isnull()\n",
    "Nan_val"
   ]
  },
  {
   "cell_type": "code",
   "execution_count": 181,
   "metadata": {},
   "outputs": [],
   "source": [
    "data.drop(index = data[Nan_val].index, inplace = True)\n",
    "data.reset_index(drop = True, inplace = True)  #here resetting index after dropping nan values."
   ]
  },
  {
   "cell_type": "code",
   "execution_count": 182,
   "metadata": {},
   "outputs": [
    {
     "data": {
      "text/plain": [
       "4    1995\n",
       "0    1993\n",
       "Name: sentiment, dtype: int64"
      ]
     },
     "execution_count": 182,
     "metadata": {},
     "output_type": "execute_result"
    }
   ],
   "source": [
    "data['sentiment'].value_counts()"
   ]
  },
  {
   "cell_type": "code",
   "execution_count": 183,
   "metadata": {},
   "outputs": [
    {
     "data": {
      "text/plain": [
       "0"
      ]
     },
     "execution_count": 183,
     "metadata": {},
     "output_type": "execute_result"
    }
   ],
   "source": [
    "data['twitts'].isnull().sum()"
   ]
  },
  {
   "cell_type": "code",
   "execution_count": 184,
   "metadata": {},
   "outputs": [
    {
     "data": {
      "text/html": [
       "<div>\n",
       "<style scoped>\n",
       "    .dataframe tbody tr th:only-of-type {\n",
       "        vertical-align: middle;\n",
       "    }\n",
       "\n",
       "    .dataframe tbody tr th {\n",
       "        vertical-align: top;\n",
       "    }\n",
       "\n",
       "    .dataframe thead th {\n",
       "        text-align: right;\n",
       "    }\n",
       "</style>\n",
       "<table border=\"1\" class=\"dataframe\">\n",
       "  <thead>\n",
       "    <tr style=\"text-align: right;\">\n",
       "      <th></th>\n",
       "      <th>twitts</th>\n",
       "      <th>sentiment</th>\n",
       "    </tr>\n",
       "  </thead>\n",
       "  <tbody>\n",
       "    <tr>\n",
       "      <th>0</th>\n",
       "      <td>having</td>\n",
       "      <td>0</td>\n",
       "    </tr>\n",
       "    <tr>\n",
       "      <th>1</th>\n",
       "      <td>sad hour away</td>\n",
       "      <td>0</td>\n",
       "    </tr>\n",
       "    <tr>\n",
       "      <th>2</th>\n",
       "      <td>skdev ah thats paranoia hate needles ve needle...</td>\n",
       "      <td>0</td>\n",
       "    </tr>\n",
       "    <tr>\n",
       "      <th>3</th>\n",
       "      <td>damn caught product searching sleep office epi</td>\n",
       "      <td>0</td>\n",
       "    </tr>\n",
       "    <tr>\n",
       "      <th>4</th>\n",
       "      <td>miss hug goat stupid photography wanted hug goat</td>\n",
       "      <td>0</td>\n",
       "    </tr>\n",
       "    <tr>\n",
       "      <th>...</th>\n",
       "      <td>...</td>\n",
       "      <td>...</td>\n",
       "    </tr>\n",
       "    <tr>\n",
       "      <th>3983</th>\n",
       "      <td>nickygeezy start necessary possible suddenly i...</td>\n",
       "      <td>4</td>\n",
       "    </tr>\n",
       "    <tr>\n",
       "      <th>3984</th>\n",
       "      <td>ehhh wanna goodwill sudden urges guess heading...</td>\n",
       "      <td>4</td>\n",
       "    </tr>\n",
       "    <tr>\n",
       "      <th>3985</th>\n",
       "      <td>accepted hospital search khaki pants</td>\n",
       "      <td>4</td>\n",
       "    </tr>\n",
       "    <tr>\n",
       "      <th>3986</th>\n",
       "      <td>imogenheap great voice fever ray thanks link</td>\n",
       "      <td>4</td>\n",
       "    </tr>\n",
       "    <tr>\n",
       "      <th>3987</th>\n",
       "      <td>naomichappell simple rules world better place ...</td>\n",
       "      <td>4</td>\n",
       "    </tr>\n",
       "  </tbody>\n",
       "</table>\n",
       "<p>3988 rows × 2 columns</p>\n",
       "</div>"
      ],
      "text/plain": [
       "                                                 twitts  sentiment\n",
       "0                                                having          0\n",
       "1                                         sad hour away          0\n",
       "2     skdev ah thats paranoia hate needles ve needle...          0\n",
       "3        damn caught product searching sleep office epi          0\n",
       "4      miss hug goat stupid photography wanted hug goat          0\n",
       "...                                                 ...        ...\n",
       "3983  nickygeezy start necessary possible suddenly i...          4\n",
       "3984  ehhh wanna goodwill sudden urges guess heading...          4\n",
       "3985               accepted hospital search khaki pants          4\n",
       "3986       imogenheap great voice fever ray thanks link          4\n",
       "3987  naomichappell simple rules world better place ...          4\n",
       "\n",
       "[3988 rows x 2 columns]"
      ]
     },
     "execution_count": 184,
     "metadata": {},
     "output_type": "execute_result"
    }
   ],
   "source": [
    "data"
   ]
  },
  {
   "cell_type": "code",
   "execution_count": 77,
   "metadata": {},
   "outputs": [],
   "source": [
    "y = data['sentiment']"
   ]
  },
  {
   "cell_type": "markdown",
   "metadata": {},
   "source": [
    "### Bag of Words Creation"
   ]
  },
  {
   "cell_type": "code",
   "execution_count": 78,
   "metadata": {},
   "outputs": [],
   "source": [
    "cv = CountVectorizer()\n",
    "text_counts = cv.fit_transform(data['twitts'])"
   ]
  },
  {
   "cell_type": "code",
   "execution_count": 79,
   "metadata": {},
   "outputs": [
    {
     "data": {
      "text/plain": [
       "(3988, 9309)"
      ]
     },
     "execution_count": 79,
     "metadata": {},
     "output_type": "execute_result"
    }
   ],
   "source": [
    "\n",
    "text_counts.shape"
   ]
  },
  {
   "cell_type": "code",
   "execution_count": 80,
   "metadata": {},
   "outputs": [
    {
     "name": "stdout",
     "output_type": "stream",
     "text": [
      "(3988, 9309)\n"
     ]
    },
    {
     "data": {
      "text/plain": [
       "array([[0, 0, 0, ..., 0, 0, 0],\n",
       "       [0, 0, 0, ..., 0, 0, 0],\n",
       "       [0, 0, 0, ..., 0, 0, 0],\n",
       "       ...,\n",
       "       [0, 0, 0, ..., 0, 0, 0],\n",
       "       [0, 0, 0, ..., 0, 0, 0],\n",
       "       [0, 0, 0, ..., 0, 0, 0]], dtype=int64)"
      ]
     },
     "execution_count": 80,
     "metadata": {},
     "output_type": "execute_result"
    }
   ],
   "source": [
    "print(text_counts.toarray().shape)\n",
    "text_counts.toarray()\n"
   ]
  },
  {
   "cell_type": "code",
   "execution_count": 90,
   "metadata": {},
   "outputs": [],
   "source": [
    "data_bow = pd.DataFrame(text_counts.toarray(), columns = cv.get_feature_names())  # we can also remove \"columns\" argument.."
   ]
  },
  {
   "cell_type": "code",
   "execution_count": 91,
   "metadata": {},
   "outputs": [
    {
     "data": {
      "text/html": [
       "<div>\n",
       "<style scoped>\n",
       "    .dataframe tbody tr th:only-of-type {\n",
       "        vertical-align: middle;\n",
       "    }\n",
       "\n",
       "    .dataframe tbody tr th {\n",
       "        vertical-align: top;\n",
       "    }\n",
       "\n",
       "    .dataframe thead th {\n",
       "        text-align: right;\n",
       "    }\n",
       "</style>\n",
       "<table border=\"1\" class=\"dataframe\">\n",
       "  <thead>\n",
       "    <tr style=\"text-align: right;\">\n",
       "      <th></th>\n",
       "      <th>00</th>\n",
       "      <th>000</th>\n",
       "      <th>0000001</th>\n",
       "      <th>04</th>\n",
       "      <th>04071991</th>\n",
       "      <th>05</th>\n",
       "      <th>06</th>\n",
       "      <th>08</th>\n",
       "      <th>09</th>\n",
       "      <th>10</th>\n",
       "      <th>...</th>\n",
       "      <th>zombies</th>\n",
       "      <th>zombz</th>\n",
       "      <th>zoo</th>\n",
       "      <th>zooloretto</th>\n",
       "      <th>zoomtext</th>\n",
       "      <th>zootopiaa</th>\n",
       "      <th>zubinsaxena</th>\n",
       "      <th>zwinky101</th>\n",
       "      <th>zynga</th>\n",
       "      <th>zzzzzs</th>\n",
       "    </tr>\n",
       "  </thead>\n",
       "  <tbody>\n",
       "    <tr>\n",
       "      <th>0</th>\n",
       "      <td>0</td>\n",
       "      <td>0</td>\n",
       "      <td>0</td>\n",
       "      <td>0</td>\n",
       "      <td>0</td>\n",
       "      <td>0</td>\n",
       "      <td>0</td>\n",
       "      <td>0</td>\n",
       "      <td>0</td>\n",
       "      <td>0</td>\n",
       "      <td>...</td>\n",
       "      <td>0</td>\n",
       "      <td>0</td>\n",
       "      <td>0</td>\n",
       "      <td>0</td>\n",
       "      <td>0</td>\n",
       "      <td>0</td>\n",
       "      <td>0</td>\n",
       "      <td>0</td>\n",
       "      <td>0</td>\n",
       "      <td>0</td>\n",
       "    </tr>\n",
       "    <tr>\n",
       "      <th>1</th>\n",
       "      <td>0</td>\n",
       "      <td>0</td>\n",
       "      <td>0</td>\n",
       "      <td>0</td>\n",
       "      <td>0</td>\n",
       "      <td>0</td>\n",
       "      <td>0</td>\n",
       "      <td>0</td>\n",
       "      <td>0</td>\n",
       "      <td>0</td>\n",
       "      <td>...</td>\n",
       "      <td>0</td>\n",
       "      <td>0</td>\n",
       "      <td>0</td>\n",
       "      <td>0</td>\n",
       "      <td>0</td>\n",
       "      <td>0</td>\n",
       "      <td>0</td>\n",
       "      <td>0</td>\n",
       "      <td>0</td>\n",
       "      <td>0</td>\n",
       "    </tr>\n",
       "    <tr>\n",
       "      <th>2</th>\n",
       "      <td>0</td>\n",
       "      <td>0</td>\n",
       "      <td>0</td>\n",
       "      <td>0</td>\n",
       "      <td>0</td>\n",
       "      <td>0</td>\n",
       "      <td>0</td>\n",
       "      <td>0</td>\n",
       "      <td>0</td>\n",
       "      <td>0</td>\n",
       "      <td>...</td>\n",
       "      <td>0</td>\n",
       "      <td>0</td>\n",
       "      <td>0</td>\n",
       "      <td>0</td>\n",
       "      <td>0</td>\n",
       "      <td>0</td>\n",
       "      <td>0</td>\n",
       "      <td>0</td>\n",
       "      <td>0</td>\n",
       "      <td>0</td>\n",
       "    </tr>\n",
       "    <tr>\n",
       "      <th>3</th>\n",
       "      <td>0</td>\n",
       "      <td>0</td>\n",
       "      <td>0</td>\n",
       "      <td>0</td>\n",
       "      <td>0</td>\n",
       "      <td>0</td>\n",
       "      <td>0</td>\n",
       "      <td>0</td>\n",
       "      <td>0</td>\n",
       "      <td>0</td>\n",
       "      <td>...</td>\n",
       "      <td>0</td>\n",
       "      <td>0</td>\n",
       "      <td>0</td>\n",
       "      <td>0</td>\n",
       "      <td>0</td>\n",
       "      <td>0</td>\n",
       "      <td>0</td>\n",
       "      <td>0</td>\n",
       "      <td>0</td>\n",
       "      <td>0</td>\n",
       "    </tr>\n",
       "    <tr>\n",
       "      <th>4</th>\n",
       "      <td>0</td>\n",
       "      <td>0</td>\n",
       "      <td>0</td>\n",
       "      <td>0</td>\n",
       "      <td>0</td>\n",
       "      <td>0</td>\n",
       "      <td>0</td>\n",
       "      <td>0</td>\n",
       "      <td>0</td>\n",
       "      <td>0</td>\n",
       "      <td>...</td>\n",
       "      <td>0</td>\n",
       "      <td>0</td>\n",
       "      <td>0</td>\n",
       "      <td>0</td>\n",
       "      <td>0</td>\n",
       "      <td>0</td>\n",
       "      <td>0</td>\n",
       "      <td>0</td>\n",
       "      <td>0</td>\n",
       "      <td>0</td>\n",
       "    </tr>\n",
       "    <tr>\n",
       "      <th>...</th>\n",
       "      <td>...</td>\n",
       "      <td>...</td>\n",
       "      <td>...</td>\n",
       "      <td>...</td>\n",
       "      <td>...</td>\n",
       "      <td>...</td>\n",
       "      <td>...</td>\n",
       "      <td>...</td>\n",
       "      <td>...</td>\n",
       "      <td>...</td>\n",
       "      <td>...</td>\n",
       "      <td>...</td>\n",
       "      <td>...</td>\n",
       "      <td>...</td>\n",
       "      <td>...</td>\n",
       "      <td>...</td>\n",
       "      <td>...</td>\n",
       "      <td>...</td>\n",
       "      <td>...</td>\n",
       "      <td>...</td>\n",
       "      <td>...</td>\n",
       "    </tr>\n",
       "    <tr>\n",
       "      <th>3983</th>\n",
       "      <td>0</td>\n",
       "      <td>0</td>\n",
       "      <td>0</td>\n",
       "      <td>0</td>\n",
       "      <td>0</td>\n",
       "      <td>0</td>\n",
       "      <td>0</td>\n",
       "      <td>0</td>\n",
       "      <td>0</td>\n",
       "      <td>0</td>\n",
       "      <td>...</td>\n",
       "      <td>0</td>\n",
       "      <td>0</td>\n",
       "      <td>0</td>\n",
       "      <td>0</td>\n",
       "      <td>0</td>\n",
       "      <td>0</td>\n",
       "      <td>0</td>\n",
       "      <td>0</td>\n",
       "      <td>0</td>\n",
       "      <td>0</td>\n",
       "    </tr>\n",
       "    <tr>\n",
       "      <th>3984</th>\n",
       "      <td>0</td>\n",
       "      <td>0</td>\n",
       "      <td>0</td>\n",
       "      <td>0</td>\n",
       "      <td>0</td>\n",
       "      <td>0</td>\n",
       "      <td>0</td>\n",
       "      <td>0</td>\n",
       "      <td>0</td>\n",
       "      <td>0</td>\n",
       "      <td>...</td>\n",
       "      <td>0</td>\n",
       "      <td>0</td>\n",
       "      <td>0</td>\n",
       "      <td>0</td>\n",
       "      <td>0</td>\n",
       "      <td>0</td>\n",
       "      <td>0</td>\n",
       "      <td>0</td>\n",
       "      <td>0</td>\n",
       "      <td>0</td>\n",
       "    </tr>\n",
       "    <tr>\n",
       "      <th>3985</th>\n",
       "      <td>0</td>\n",
       "      <td>0</td>\n",
       "      <td>0</td>\n",
       "      <td>0</td>\n",
       "      <td>0</td>\n",
       "      <td>0</td>\n",
       "      <td>0</td>\n",
       "      <td>0</td>\n",
       "      <td>0</td>\n",
       "      <td>0</td>\n",
       "      <td>...</td>\n",
       "      <td>0</td>\n",
       "      <td>0</td>\n",
       "      <td>0</td>\n",
       "      <td>0</td>\n",
       "      <td>0</td>\n",
       "      <td>0</td>\n",
       "      <td>0</td>\n",
       "      <td>0</td>\n",
       "      <td>0</td>\n",
       "      <td>0</td>\n",
       "    </tr>\n",
       "    <tr>\n",
       "      <th>3986</th>\n",
       "      <td>0</td>\n",
       "      <td>0</td>\n",
       "      <td>0</td>\n",
       "      <td>0</td>\n",
       "      <td>0</td>\n",
       "      <td>0</td>\n",
       "      <td>0</td>\n",
       "      <td>0</td>\n",
       "      <td>0</td>\n",
       "      <td>0</td>\n",
       "      <td>...</td>\n",
       "      <td>0</td>\n",
       "      <td>0</td>\n",
       "      <td>0</td>\n",
       "      <td>0</td>\n",
       "      <td>0</td>\n",
       "      <td>0</td>\n",
       "      <td>0</td>\n",
       "      <td>0</td>\n",
       "      <td>0</td>\n",
       "      <td>0</td>\n",
       "    </tr>\n",
       "    <tr>\n",
       "      <th>3987</th>\n",
       "      <td>0</td>\n",
       "      <td>0</td>\n",
       "      <td>0</td>\n",
       "      <td>0</td>\n",
       "      <td>0</td>\n",
       "      <td>0</td>\n",
       "      <td>0</td>\n",
       "      <td>0</td>\n",
       "      <td>0</td>\n",
       "      <td>0</td>\n",
       "      <td>...</td>\n",
       "      <td>0</td>\n",
       "      <td>0</td>\n",
       "      <td>0</td>\n",
       "      <td>0</td>\n",
       "      <td>0</td>\n",
       "      <td>0</td>\n",
       "      <td>0</td>\n",
       "      <td>0</td>\n",
       "      <td>0</td>\n",
       "      <td>0</td>\n",
       "    </tr>\n",
       "  </tbody>\n",
       "</table>\n",
       "<p>3988 rows × 9309 columns</p>\n",
       "</div>"
      ],
      "text/plain": [
       "      00  000  0000001  04  04071991  05  06  08  09  10  ...  zombies  zombz  \\\n",
       "0      0    0        0   0         0   0   0   0   0   0  ...        0      0   \n",
       "1      0    0        0   0         0   0   0   0   0   0  ...        0      0   \n",
       "2      0    0        0   0         0   0   0   0   0   0  ...        0      0   \n",
       "3      0    0        0   0         0   0   0   0   0   0  ...        0      0   \n",
       "4      0    0        0   0         0   0   0   0   0   0  ...        0      0   \n",
       "...   ..  ...      ...  ..       ...  ..  ..  ..  ..  ..  ...      ...    ...   \n",
       "3983   0    0        0   0         0   0   0   0   0   0  ...        0      0   \n",
       "3984   0    0        0   0         0   0   0   0   0   0  ...        0      0   \n",
       "3985   0    0        0   0         0   0   0   0   0   0  ...        0      0   \n",
       "3986   0    0        0   0         0   0   0   0   0   0  ...        0      0   \n",
       "3987   0    0        0   0         0   0   0   0   0   0  ...        0      0   \n",
       "\n",
       "      zoo  zooloretto  zoomtext  zootopiaa  zubinsaxena  zwinky101  zynga  \\\n",
       "0       0           0         0          0            0          0      0   \n",
       "1       0           0         0          0            0          0      0   \n",
       "2       0           0         0          0            0          0      0   \n",
       "3       0           0         0          0            0          0      0   \n",
       "4       0           0         0          0            0          0      0   \n",
       "...   ...         ...       ...        ...          ...        ...    ...   \n",
       "3983    0           0         0          0            0          0      0   \n",
       "3984    0           0         0          0            0          0      0   \n",
       "3985    0           0         0          0            0          0      0   \n",
       "3986    0           0         0          0            0          0      0   \n",
       "3987    0           0         0          0            0          0      0   \n",
       "\n",
       "      zzzzzs  \n",
       "0          0  \n",
       "1          0  \n",
       "2          0  \n",
       "3          0  \n",
       "4          0  \n",
       "...      ...  \n",
       "3983       0  \n",
       "3984       0  \n",
       "3985       0  \n",
       "3986       0  \n",
       "3987       0  \n",
       "\n",
       "[3988 rows x 9309 columns]"
      ]
     },
     "execution_count": 91,
     "metadata": {},
     "output_type": "execute_result"
    }
   ],
   "source": [
    "data_bow"
   ]
  },
  {
   "cell_type": "markdown",
   "metadata": {},
   "source": [
    "### ML Algorithms"
   ]
  },
  {
   "cell_type": "code",
   "execution_count": 83,
   "metadata": {},
   "outputs": [],
   "source": [
    "from sklearn.linear_model import SGDClassifier\n",
    "from sklearn.linear_model import LogisticRegression\n",
    "from sklearn.linear_model import LogisticRegressionCV\n",
    "from sklearn.svm import LinearSVC\n",
    "from sklearn.ensemble import RandomForestClassifier\n",
    "\n",
    "from sklearn.model_selection import train_test_split\n",
    "from sklearn.metrics import confusion_matrix, accuracy_score\n",
    "from sklearn.preprocessing import MinMaxScaler"
   ]
  },
  {
   "cell_type": "code",
   "execution_count": 92,
   "metadata": {},
   "outputs": [],
   "source": [
    "sgd = SGDClassifier(n_jobs= -1, random_state=42, max_iter=200) \n",
    "#n_jobs = -1 -- states that it utilises all availabel cpu's while training data...\n",
    "lgr = LogisticRegression(random_state=42, max_iter=200)\n",
    "lgrcv = LogisticRegressionCV(cv = 2, random_state=42, max_iter = 1000)  #it requires more iterations....cv- cross validation..\n",
    "svm = LinearSVC(random_state=42, max_iter=200)\n",
    "rfc = RandomForestClassifier(random_state=42, n_jobs= -1, n_estimators= 200)"
   ]
  },
  {
   "cell_type": "code",
   "execution_count": 93,
   "metadata": {},
   "outputs": [],
   "source": [
    "clf = {'SGD': sgd, 'LGR':lgr, 'LGR-CV':lgrcv, 'SVM':svm, 'RFC': rfc}"
   ]
  },
  {
   "cell_type": "code",
   "execution_count": 94,
   "metadata": {},
   "outputs": [
    {
     "data": {
      "text/plain": [
       "dict_keys(['SGD', 'LGR', 'LGR-CV', 'SVM', 'RFC'])"
      ]
     },
     "execution_count": 94,
     "metadata": {},
     "output_type": "execute_result"
    }
   ],
   "source": [
    "clf.keys()"
   ]
  },
  {
   "cell_type": "code",
   "execution_count": null,
   "metadata": {},
   "outputs": [],
   "source": []
  },
  {
   "cell_type": "code",
   "execution_count": 95,
   "metadata": {},
   "outputs": [],
   "source": [
    "def classify(x,y):\n",
    "    scaler = MinMaxScaler(feature_range=(0,1))\n",
    "    x = scaler.fit_transform(x)\n",
    "    \n",
    "    x_train, x_test, y_train, y_test = train_test_split(x, y, test_size = 0.2, random_state = 42, stratify = y)\n",
    "    \n",
    "    for key in clf.keys():\n",
    "        clf[key].fit(x_train, y_train)\n",
    "        y_pred = clf[key].predict(x_test)\n",
    "        ac = accuracy_score(y_test, y_pred)\n",
    "        print(key, \"--->\", ac)"
   ]
  },
  {
   "cell_type": "code",
   "execution_count": 96,
   "metadata": {},
   "outputs": [
    {
     "name": "stdout",
     "output_type": "stream",
     "text": [
      "SGD ---> 0.6604010025062657\n",
      "LGR ---> 0.6791979949874687\n",
      "LGR-CV ---> 0.6879699248120301\n",
      "SVM ---> 0.6766917293233082\n",
      "RFC ---> 0.6691729323308271\n",
      "Wall time: 53.8 s\n"
     ]
    }
   ],
   "source": [
    "%%time\n",
    "classify(data_bow, y)"
   ]
  },
  {
   "cell_type": "markdown",
   "metadata": {},
   "source": [
    "# TF-IDF"
   ]
  },
  {
   "cell_type": "code",
   "execution_count": 174,
   "metadata": {},
   "outputs": [],
   "source": [
    "from sklearn.feature_extraction.text import TfidfVectorizer"
   ]
  },
  {
   "cell_type": "code",
   "execution_count": 185,
   "metadata": {},
   "outputs": [
    {
     "data": {
      "text/plain": [
       "(3988, 2)"
      ]
     },
     "execution_count": 185,
     "metadata": {},
     "output_type": "execute_result"
    }
   ],
   "source": [
    "data.shape"
   ]
  },
  {
   "cell_type": "code",
   "execution_count": 186,
   "metadata": {},
   "outputs": [
    {
     "data": {
      "text/plain": [
       "array([[0., 0., 0., ..., 0., 0., 0.],\n",
       "       [0., 0., 0., ..., 0., 0., 0.],\n",
       "       [0., 0., 0., ..., 0., 0., 0.],\n",
       "       ...,\n",
       "       [0., 0., 0., ..., 0., 0., 0.],\n",
       "       [0., 0., 0., ..., 0., 0., 0.],\n",
       "       [0., 0., 0., ..., 0., 0., 0.]])"
      ]
     },
     "execution_count": 186,
     "metadata": {},
     "output_type": "execute_result"
    }
   ],
   "source": [
    "tfidf = TfidfVectorizer()\n",
    "x = tfidf.fit_transform(data['twitts'])\n",
    "x.toarray()"
   ]
  },
  {
   "cell_type": "code",
   "execution_count": 187,
   "metadata": {},
   "outputs": [
    {
     "name": "stdout",
     "output_type": "stream",
     "text": [
      "SGD ---> 0.6553884711779449\n",
      "LGR ---> 0.6804511278195489\n",
      "LGR-CV ---> 0.6854636591478697\n",
      "SVM ---> 0.6641604010025063\n",
      "RFC ---> 0.6904761904761905\n",
      "Wall time: 52.7 s\n"
     ]
    }
   ],
   "source": [
    "%%time\n",
    "classify(pd.DataFrame(x.toarray()),y)"
   ]
  },
  {
   "cell_type": "code",
   "execution_count": null,
   "metadata": {},
   "outputs": [],
   "source": []
  },
  {
   "cell_type": "markdown",
   "metadata": {},
   "source": [
    "# Word2Vec"
   ]
  },
  {
   "cell_type": "code",
   "execution_count": 162,
   "metadata": {},
   "outputs": [],
   "source": [
    "import spacy\n",
    "nlp = spacy.load('en_core_web_lg')"
   ]
  },
  {
   "cell_type": "raw",
   "metadata": {},
   "source": [
    "x = 'I am kartheek from tirupathi. i love u'\n",
    "doc = nlp(x)\n",
    "doc.vector.shape #(300,)"
   ]
  },
  {
   "cell_type": "raw",
   "metadata": {},
   "source": [
    "doc.vector.reshape(1,-1).shape\n",
    "#output : (1,300)"
   ]
  },
  {
   "cell_type": "code",
   "execution_count": 163,
   "metadata": {},
   "outputs": [],
   "source": [
    "def get_vec(x):\n",
    "    doc = nlp(x)\n",
    "    return doc.vector.reshape(1,-1)"
   ]
  },
  {
   "cell_type": "code",
   "execution_count": 164,
   "metadata": {},
   "outputs": [],
   "source": [
    "data['vec'] = data['twitts'].apply(lambda x: get_vec(x))"
   ]
  },
  {
   "cell_type": "code",
   "execution_count": 165,
   "metadata": {},
   "outputs": [
    {
     "data": {
      "text/html": [
       "<div>\n",
       "<style scoped>\n",
       "    .dataframe tbody tr th:only-of-type {\n",
       "        vertical-align: middle;\n",
       "    }\n",
       "\n",
       "    .dataframe tbody tr th {\n",
       "        vertical-align: top;\n",
       "    }\n",
       "\n",
       "    .dataframe thead th {\n",
       "        text-align: right;\n",
       "    }\n",
       "</style>\n",
       "<table border=\"1\" class=\"dataframe\">\n",
       "  <thead>\n",
       "    <tr style=\"text-align: right;\">\n",
       "      <th></th>\n",
       "      <th>twitts</th>\n",
       "      <th>sentiment</th>\n",
       "      <th>vec</th>\n",
       "    </tr>\n",
       "  </thead>\n",
       "  <tbody>\n",
       "    <tr>\n",
       "      <th>0</th>\n",
       "      <td>having</td>\n",
       "      <td>0</td>\n",
       "      <td>[[0.11235, 0.21697, -0.2109, 0.16637, 0.096581...</td>\n",
       "    </tr>\n",
       "    <tr>\n",
       "      <th>1</th>\n",
       "      <td>sad hour away</td>\n",
       "      <td>0</td>\n",
       "      <td>[[0.11808103, 0.19551666, 0.169845, 0.14189333...</td>\n",
       "    </tr>\n",
       "    <tr>\n",
       "      <th>2</th>\n",
       "      <td>skdev ah thats paranoia hate needles ve needle...</td>\n",
       "      <td>0</td>\n",
       "      <td>[[-0.079496056, 0.16768679, -0.3158649, -0.064...</td>\n",
       "    </tr>\n",
       "    <tr>\n",
       "      <th>3</th>\n",
       "      <td>damn caught product searching sleep office epi</td>\n",
       "      <td>0</td>\n",
       "      <td>[[-0.14417098, 0.041018147, -0.20077585, 0.007...</td>\n",
       "    </tr>\n",
       "    <tr>\n",
       "      <th>4</th>\n",
       "      <td>miss hug goat stupid photography wanted hug goat</td>\n",
       "      <td>0</td>\n",
       "      <td>[[-0.3998564, -0.030679878, -0.17085375, 0.012...</td>\n",
       "    </tr>\n",
       "    <tr>\n",
       "      <th>...</th>\n",
       "      <td>...</td>\n",
       "      <td>...</td>\n",
       "      <td>...</td>\n",
       "    </tr>\n",
       "    <tr>\n",
       "      <th>3983</th>\n",
       "      <td>nickygeezy start necessary possible suddenly i...</td>\n",
       "      <td>4</td>\n",
       "      <td>[[0.009054126, 0.15927613, -0.29844663, 0.0477...</td>\n",
       "    </tr>\n",
       "    <tr>\n",
       "      <th>3984</th>\n",
       "      <td>ehhh wanna goodwill sudden urges guess heading...</td>\n",
       "      <td>4</td>\n",
       "      <td>[[-0.030560374, 0.18102586, -0.13722971, 0.104...</td>\n",
       "    </tr>\n",
       "    <tr>\n",
       "      <th>3985</th>\n",
       "      <td>accepted hospital search khaki pants</td>\n",
       "      <td>4</td>\n",
       "      <td>[[0.0748146, -0.1455998, -0.122419596, 0.04719...</td>\n",
       "    </tr>\n",
       "    <tr>\n",
       "      <th>3986</th>\n",
       "      <td>imogenheap great voice fever ray thanks link</td>\n",
       "      <td>4</td>\n",
       "      <td>[[-0.19900715, 0.14350842, -0.12358614, 0.1079...</td>\n",
       "    </tr>\n",
       "    <tr>\n",
       "      <th>3987</th>\n",
       "      <td>naomichappell simple rules world better place ...</td>\n",
       "      <td>4</td>\n",
       "      <td>[[-0.07308651, 0.11608257, -0.11986714, -0.056...</td>\n",
       "    </tr>\n",
       "  </tbody>\n",
       "</table>\n",
       "<p>3988 rows × 3 columns</p>\n",
       "</div>"
      ],
      "text/plain": [
       "                                                 twitts  sentiment  \\\n",
       "0                                                having          0   \n",
       "1                                         sad hour away          0   \n",
       "2     skdev ah thats paranoia hate needles ve needle...          0   \n",
       "3        damn caught product searching sleep office epi          0   \n",
       "4      miss hug goat stupid photography wanted hug goat          0   \n",
       "...                                                 ...        ...   \n",
       "3983  nickygeezy start necessary possible suddenly i...          4   \n",
       "3984  ehhh wanna goodwill sudden urges guess heading...          4   \n",
       "3985               accepted hospital search khaki pants          4   \n",
       "3986       imogenheap great voice fever ray thanks link          4   \n",
       "3987  naomichappell simple rules world better place ...          4   \n",
       "\n",
       "                                                    vec  \n",
       "0     [[0.11235, 0.21697, -0.2109, 0.16637, 0.096581...  \n",
       "1     [[0.11808103, 0.19551666, 0.169845, 0.14189333...  \n",
       "2     [[-0.079496056, 0.16768679, -0.3158649, -0.064...  \n",
       "3     [[-0.14417098, 0.041018147, -0.20077585, 0.007...  \n",
       "4     [[-0.3998564, -0.030679878, -0.17085375, 0.012...  \n",
       "...                                                 ...  \n",
       "3983  [[0.009054126, 0.15927613, -0.29844663, 0.0477...  \n",
       "3984  [[-0.030560374, 0.18102586, -0.13722971, 0.104...  \n",
       "3985  [[0.0748146, -0.1455998, -0.122419596, 0.04719...  \n",
       "3986  [[-0.19900715, 0.14350842, -0.12358614, 0.1079...  \n",
       "3987  [[-0.07308651, 0.11608257, -0.11986714, -0.056...  \n",
       "\n",
       "[3988 rows x 3 columns]"
      ]
     },
     "execution_count": 165,
     "metadata": {},
     "output_type": "execute_result"
    }
   ],
   "source": [
    "data"
   ]
  },
  {
   "cell_type": "code",
   "execution_count": 166,
   "metadata": {},
   "outputs": [
    {
     "data": {
      "text/plain": [
       "array([[ 0.11235   ,  0.21697   , -0.2109    , ..., -0.0016639 ,\n",
       "        -0.017232  ,  0.03535   ],\n",
       "       [ 0.11808103,  0.19551666,  0.169845  , ...,  0.16940267,\n",
       "        -0.35529998,  0.12712733],\n",
       "       [-0.07949606,  0.16768679, -0.3158649 , ...,  0.0217734 ,\n",
       "        -0.10105007,  0.16023867],\n",
       "       ...,\n",
       "       [ 0.0748146 , -0.1455998 , -0.1224196 , ...,  0.0854774 ,\n",
       "         0.1120398 ,  0.08975799],\n",
       "       [-0.19900715,  0.14350842, -0.12358614, ..., -0.05082624,\n",
       "        -0.13873042,  0.33091715],\n",
       "       [-0.07308651,  0.11608257, -0.11986714, ..., -0.104865  ,\n",
       "         0.20478792,  0.14561956]], dtype=float32)"
      ]
     },
     "execution_count": 166,
     "metadata": {},
     "output_type": "execute_result"
    }
   ],
   "source": [
    "import numpy as np\n",
    "x = np.concatenate(data['vec'].to_numpy(), axis = 0)\n",
    "x\n"
   ]
  },
  {
   "cell_type": "code",
   "execution_count": 167,
   "metadata": {},
   "outputs": [
    {
     "data": {
      "text/html": [
       "<div>\n",
       "<style scoped>\n",
       "    .dataframe tbody tr th:only-of-type {\n",
       "        vertical-align: middle;\n",
       "    }\n",
       "\n",
       "    .dataframe tbody tr th {\n",
       "        vertical-align: top;\n",
       "    }\n",
       "\n",
       "    .dataframe thead th {\n",
       "        text-align: right;\n",
       "    }\n",
       "</style>\n",
       "<table border=\"1\" class=\"dataframe\">\n",
       "  <thead>\n",
       "    <tr style=\"text-align: right;\">\n",
       "      <th></th>\n",
       "      <th>twitts</th>\n",
       "      <th>sentiment</th>\n",
       "      <th>vec</th>\n",
       "    </tr>\n",
       "  </thead>\n",
       "  <tbody>\n",
       "    <tr>\n",
       "      <th>0</th>\n",
       "      <td>having</td>\n",
       "      <td>0</td>\n",
       "      <td>[[0.11235, 0.21697, -0.2109, 0.16637, 0.096581...</td>\n",
       "    </tr>\n",
       "    <tr>\n",
       "      <th>1</th>\n",
       "      <td>sad hour away</td>\n",
       "      <td>0</td>\n",
       "      <td>[[0.11808103, 0.19551666, 0.169845, 0.14189333...</td>\n",
       "    </tr>\n",
       "    <tr>\n",
       "      <th>2</th>\n",
       "      <td>skdev ah thats paranoia hate needles ve needle...</td>\n",
       "      <td>0</td>\n",
       "      <td>[[-0.079496056, 0.16768679, -0.3158649, -0.064...</td>\n",
       "    </tr>\n",
       "    <tr>\n",
       "      <th>3</th>\n",
       "      <td>damn caught product searching sleep office epi</td>\n",
       "      <td>0</td>\n",
       "      <td>[[-0.14417098, 0.041018147, -0.20077585, 0.007...</td>\n",
       "    </tr>\n",
       "    <tr>\n",
       "      <th>4</th>\n",
       "      <td>miss hug goat stupid photography wanted hug goat</td>\n",
       "      <td>0</td>\n",
       "      <td>[[-0.3998564, -0.030679878, -0.17085375, 0.012...</td>\n",
       "    </tr>\n",
       "    <tr>\n",
       "      <th>...</th>\n",
       "      <td>...</td>\n",
       "      <td>...</td>\n",
       "      <td>...</td>\n",
       "    </tr>\n",
       "    <tr>\n",
       "      <th>3983</th>\n",
       "      <td>nickygeezy start necessary possible suddenly i...</td>\n",
       "      <td>4</td>\n",
       "      <td>[[0.009054126, 0.15927613, -0.29844663, 0.0477...</td>\n",
       "    </tr>\n",
       "    <tr>\n",
       "      <th>3984</th>\n",
       "      <td>ehhh wanna goodwill sudden urges guess heading...</td>\n",
       "      <td>4</td>\n",
       "      <td>[[-0.030560374, 0.18102586, -0.13722971, 0.104...</td>\n",
       "    </tr>\n",
       "    <tr>\n",
       "      <th>3985</th>\n",
       "      <td>accepted hospital search khaki pants</td>\n",
       "      <td>4</td>\n",
       "      <td>[[0.0748146, -0.1455998, -0.122419596, 0.04719...</td>\n",
       "    </tr>\n",
       "    <tr>\n",
       "      <th>3986</th>\n",
       "      <td>imogenheap great voice fever ray thanks link</td>\n",
       "      <td>4</td>\n",
       "      <td>[[-0.19900715, 0.14350842, -0.12358614, 0.1079...</td>\n",
       "    </tr>\n",
       "    <tr>\n",
       "      <th>3987</th>\n",
       "      <td>naomichappell simple rules world better place ...</td>\n",
       "      <td>4</td>\n",
       "      <td>[[-0.07308651, 0.11608257, -0.11986714, -0.056...</td>\n",
       "    </tr>\n",
       "  </tbody>\n",
       "</table>\n",
       "<p>3988 rows × 3 columns</p>\n",
       "</div>"
      ],
      "text/plain": [
       "                                                 twitts  sentiment  \\\n",
       "0                                                having          0   \n",
       "1                                         sad hour away          0   \n",
       "2     skdev ah thats paranoia hate needles ve needle...          0   \n",
       "3        damn caught product searching sleep office epi          0   \n",
       "4      miss hug goat stupid photography wanted hug goat          0   \n",
       "...                                                 ...        ...   \n",
       "3983  nickygeezy start necessary possible suddenly i...          4   \n",
       "3984  ehhh wanna goodwill sudden urges guess heading...          4   \n",
       "3985               accepted hospital search khaki pants          4   \n",
       "3986       imogenheap great voice fever ray thanks link          4   \n",
       "3987  naomichappell simple rules world better place ...          4   \n",
       "\n",
       "                                                    vec  \n",
       "0     [[0.11235, 0.21697, -0.2109, 0.16637, 0.096581...  \n",
       "1     [[0.11808103, 0.19551666, 0.169845, 0.14189333...  \n",
       "2     [[-0.079496056, 0.16768679, -0.3158649, -0.064...  \n",
       "3     [[-0.14417098, 0.041018147, -0.20077585, 0.007...  \n",
       "4     [[-0.3998564, -0.030679878, -0.17085375, 0.012...  \n",
       "...                                                 ...  \n",
       "3983  [[0.009054126, 0.15927613, -0.29844663, 0.0477...  \n",
       "3984  [[-0.030560374, 0.18102586, -0.13722971, 0.104...  \n",
       "3985  [[0.0748146, -0.1455998, -0.122419596, 0.04719...  \n",
       "3986  [[-0.19900715, 0.14350842, -0.12358614, 0.1079...  \n",
       "3987  [[-0.07308651, 0.11608257, -0.11986714, -0.056...  \n",
       "\n",
       "[3988 rows x 3 columns]"
      ]
     },
     "execution_count": 167,
     "metadata": {},
     "output_type": "execute_result"
    }
   ],
   "source": [
    "data"
   ]
  },
  {
   "cell_type": "code",
   "execution_count": 168,
   "metadata": {},
   "outputs": [
    {
     "data": {
      "text/plain": [
       "(3988, 300)"
      ]
     },
     "execution_count": 168,
     "metadata": {},
     "output_type": "execute_result"
    }
   ],
   "source": [
    "x.shape"
   ]
  },
  {
   "cell_type": "code",
   "execution_count": 169,
   "metadata": {},
   "outputs": [
    {
     "name": "stdout",
     "output_type": "stream",
     "text": [
      "SGD ---> 0.6842105263157895\n"
     ]
    },
    {
     "name": "stderr",
     "output_type": "stream",
     "text": [
      "c:\\users\\91939\\desktop\\python_programs\\python\\python38\\lib\\site-packages\\sklearn\\linear_model\\_logistic.py:760: ConvergenceWarning: lbfgs failed to converge (status=1):\n",
      "STOP: TOTAL NO. of ITERATIONS REACHED LIMIT.\n",
      "\n",
      "Increase the number of iterations (max_iter) or scale the data as shown in:\n",
      "    https://scikit-learn.org/stable/modules/preprocessing.html\n",
      "Please also refer to the documentation for alternative solver options:\n",
      "    https://scikit-learn.org/stable/modules/linear_model.html#logistic-regression\n",
      "  n_iter_i = _check_optimize_result(\n"
     ]
    },
    {
     "name": "stdout",
     "output_type": "stream",
     "text": [
      "LGR ---> 0.7218045112781954\n",
      "LGR-CV ---> 0.7230576441102757\n"
     ]
    },
    {
     "name": "stderr",
     "output_type": "stream",
     "text": [
      "c:\\users\\91939\\desktop\\python_programs\\python\\python38\\lib\\site-packages\\sklearn\\svm\\_base.py:974: ConvergenceWarning: Liblinear failed to converge, increase the number of iterations.\n",
      "  warnings.warn(\"Liblinear failed to converge, increase \"\n"
     ]
    },
    {
     "name": "stdout",
     "output_type": "stream",
     "text": [
      "SVM ---> 0.7055137844611529\n",
      "RFC ---> 0.6879699248120301\n"
     ]
    }
   ],
   "source": [
    "classify(pd.DataFrame(x), y)"
   ]
  },
  {
   "cell_type": "markdown",
   "metadata": {},
   "source": [
    "#### Prediction using word2vec"
   ]
  },
  {
   "cell_type": "code",
   "execution_count": 172,
   "metadata": {},
   "outputs": [],
   "source": [
    "def predict_w2v(x):\n",
    "    for key in clf.keys():\n",
    "        doc = nlp(x)\n",
    "        doc =doc.vector.reshape(1,-1)\n",
    "        y_pred = clf[key].predict(doc)\n",
    "        print(key, \"--->\", y_pred)"
   ]
  },
  {
   "cell_type": "code",
   "execution_count": 173,
   "metadata": {},
   "outputs": [
    {
     "name": "stdout",
     "output_type": "stream",
     "text": [
      "SGD ---> [4]\n",
      "LGR ---> [4]\n",
      "LGR-CV ---> [4]\n",
      "SVM ---> [4]\n",
      "RFC ---> [4]\n"
     ]
    }
   ],
   "source": [
    "predict_w2v('hi, thanks for watching this video. Please like')"
   ]
  },
  {
   "cell_type": "code",
   "execution_count": 142,
   "metadata": {},
   "outputs": [
    {
     "name": "stdout",
     "output_type": "stream",
     "text": [
      "SGD ---> [0]\n",
      "LGR ---> [0]\n",
      "LGR-CV ---> [0]\n",
      "SVM ---> [0]\n",
      "RFC ---> [4]\n"
     ]
    }
   ],
   "source": [
    "predict_w2v('this is worst video as i seen earlier')"
   ]
  },
  {
   "cell_type": "code",
   "execution_count": null,
   "metadata": {},
   "outputs": [],
   "source": []
  }
 ],
 "metadata": {
  "kernelspec": {
   "display_name": "Python 3",
   "language": "python",
   "name": "python3"
  },
  "language_info": {
   "codemirror_mode": {
    "name": "ipython",
    "version": 3
   },
   "file_extension": ".py",
   "mimetype": "text/x-python",
   "name": "python",
   "nbconvert_exporter": "python",
   "pygments_lexer": "ipython3",
   "version": "3.8.2"
  }
 },
 "nbformat": 4,
 "nbformat_minor": 4
}
